{
  "nbformat": 4,
  "nbformat_minor": 0,
  "metadata": {
    "colab": {
      "provenance": []
    },
    "kernelspec": {
      "name": "python3",
      "display_name": "Python 3"
    },
    "language_info": {
      "name": "python"
    }
  },
  "cells": [
    {
      "cell_type": "code",
      "execution_count": 17,
      "metadata": {
        "colab": {
          "base_uri": "https://localhost:8080/"
        },
        "id": "QaxUW5YHsWNi",
        "outputId": "ff71e403-25f6-4c40-93e8-1e6d15d12a5a"
      },
      "outputs": [
        {
          "output_type": "stream",
          "name": "stdout",
          "text": [
            "Requirement already satisfied: pandas in /usr/local/lib/python3.10/dist-packages (2.0.3)\n",
            "Requirement already satisfied: matplotlib in /usr/local/lib/python3.10/dist-packages (3.7.1)\n",
            "Requirement already satisfied: surprise in /usr/local/lib/python3.10/dist-packages (0.1)\n",
            "Requirement already satisfied: python-dateutil>=2.8.2 in /usr/local/lib/python3.10/dist-packages (from pandas) (2.8.2)\n",
            "Requirement already satisfied: pytz>=2020.1 in /usr/local/lib/python3.10/dist-packages (from pandas) (2023.4)\n",
            "Requirement already satisfied: tzdata>=2022.1 in /usr/local/lib/python3.10/dist-packages (from pandas) (2024.1)\n",
            "Requirement already satisfied: numpy>=1.21.0 in /usr/local/lib/python3.10/dist-packages (from pandas) (1.25.2)\n",
            "Requirement already satisfied: contourpy>=1.0.1 in /usr/local/lib/python3.10/dist-packages (from matplotlib) (1.2.1)\n",
            "Requirement already satisfied: cycler>=0.10 in /usr/local/lib/python3.10/dist-packages (from matplotlib) (0.12.1)\n",
            "Requirement already satisfied: fonttools>=4.22.0 in /usr/local/lib/python3.10/dist-packages (from matplotlib) (4.51.0)\n",
            "Requirement already satisfied: kiwisolver>=1.0.1 in /usr/local/lib/python3.10/dist-packages (from matplotlib) (1.4.5)\n",
            "Requirement already satisfied: packaging>=20.0 in /usr/local/lib/python3.10/dist-packages (from matplotlib) (24.0)\n",
            "Requirement already satisfied: pillow>=6.2.0 in /usr/local/lib/python3.10/dist-packages (from matplotlib) (9.4.0)\n",
            "Requirement already satisfied: pyparsing>=2.3.1 in /usr/local/lib/python3.10/dist-packages (from matplotlib) (3.1.2)\n",
            "Requirement already satisfied: scikit-surprise in /usr/local/lib/python3.10/dist-packages (from surprise) (1.1.3)\n",
            "Requirement already satisfied: six>=1.5 in /usr/local/lib/python3.10/dist-packages (from python-dateutil>=2.8.2->pandas) (1.16.0)\n",
            "Requirement already satisfied: joblib>=1.0.0 in /usr/local/lib/python3.10/dist-packages (from scikit-surprise->surprise) (1.4.0)\n",
            "Requirement already satisfied: scipy>=1.3.2 in /usr/local/lib/python3.10/dist-packages (from scikit-surprise->surprise) (1.11.4)\n"
          ]
        }
      ],
      "source": [
        "pip install pandas matplotlib surprise"
      ]
    },
    {
      "cell_type": "code",
      "source": [
        "import pandas as pd\n",
        "import matplotlib.pyplot as plt\n",
        "from surprise import Dataset, Reader, SVD, KNNWithMeans\n",
        "from surprise.model_selection import cross_validate, GridSearchCV, train_test_split\n",
        "from surprise import accuracy"
      ],
      "metadata": {
        "id": "Gl8-3p-ysZqi"
      },
      "execution_count": 18,
      "outputs": []
    },
    {
      "cell_type": "code",
      "source": [
        "ratings_url = 'https://s3-us-west-2.amazonaws.com/recommender-tutorial/ratings.csv'\n",
        "movies_url = 'https://s3-us-west-2.amazonaws.com/recommender-tutorial/movies.csv'\n",
        "\n",
        "ratings = pd.read_csv(ratings_url)\n",
        "movies = pd.read_csv(movies_url)"
      ],
      "metadata": {
        "id": "WVkXvH8Dsau8"
      },
      "execution_count": 19,
      "outputs": []
    },
    {
      "cell_type": "code",
      "source": [
        "merged_data = pd.merge(ratings, movies, on='movieId')"
      ],
      "metadata": {
        "id": "MUU24afWsb7R"
      },
      "execution_count": 20,
      "outputs": []
    },
    {
      "cell_type": "code",
      "source": [
        "sci_fi_movies = merged_data[merged_data['genres'].str.contains(\"Sci-Fi\")].shape[0]\n",
        "print(\"Number of Sci-Fi movies:\", sci_fi_movies)"
      ],
      "metadata": {
        "colab": {
          "base_uri": "https://localhost:8080/"
        },
        "id": "BhvakWNpsfgj",
        "outputId": "47a406bc-a5d3-45aa-c0da-e12b102df250"
      },
      "execution_count": 21,
      "outputs": [
        {
          "output_type": "stream",
          "name": "stdout",
          "text": [
            "Number of Sci-Fi movies: 17243\n"
          ]
        }
      ]
    },
    {
      "cell_type": "code",
      "source": [
        "comedy_ratings = merged_data[merged_data['genres'].str.contains(\"Comedy\")]['rating']\n",
        "plt.hist(comedy_ratings, bins=10, range=(0, 5))\n",
        "plt.title(\"Distribution of Comedy Ratings\")\n",
        "plt.xlabel(\"Rating\")\n",
        "plt.ylabel(\"Frequency\")\n",
        "plt.show()"
      ],
      "metadata": {
        "colab": {
          "base_uri": "https://localhost:8080/",
          "height": 472
        },
        "id": "JApSQxIrsg3S",
        "outputId": "c7e437be-001a-4f4f-c6ba-8ddb37072e8f"
      },
      "execution_count": 22,
      "outputs": [
        {
          "output_type": "display_data",
          "data": {
            "text/plain": [
              "<Figure size 640x480 with 1 Axes>"
            ],
            "image/png": "[encoded data removed]"
          },
          "metadata": {}
        }
      ]
    },
    {
      "cell_type": "code",
      "source": [
        "action_movies = merged_data[merged_data['genres'].str.contains(\"Action\")]\n",
        "avg_action_rating = action_movies['rating'].mean()\n",
        "top_3_action_movies = action_movies.groupby('title')['rating'].mean().sort_values(ascending=False).head(3)\n",
        "print(\"Average rating of all action movies:\", avg_action_rating)\n",
        "print(\"Top 3 highest-rated action movies:\\n\", top_3_action_movies)"
      ],
      "metadata": {
        "colab": {
          "base_uri": "https://localhost:8080/"
        },
        "id": "-tpu1WKUsjET",
        "outputId": "22c304cb-6de3-4093-aa20-fb1702b38ba8"
      },
      "execution_count": 23,
      "outputs": [
        {
          "output_type": "stream",
          "name": "stdout",
          "text": [
            "Average rating of all action movies: 3.447984331646809\n",
            "Top 3 highest-rated action movies:\n",
            " title\n",
            "Knock Off (1998)                                                      5.0\n",
            "On the Other Side of the Tracks (De l'autre côté du périph) (2012)    5.0\n",
            "Sonatine (Sonachine) (1993)                                           5.0\n",
            "Name: rating, dtype: float64\n"
          ]
        }
      ]
    },
    {
      "cell_type": "code",
      "source": [
        "reader = Reader(rating_scale=(ratings['rating'].min(), ratings['rating'].max()))\n",
        "data = Dataset.load_from_df(ratings[['userId', 'movieId', 'rating']], reader)"
      ],
      "metadata": {
        "id": "5xPTS8YsskVu"
      },
      "execution_count": 24,
      "outputs": []
    },
    {
      "cell_type": "code",
      "source": [
        "svd = SVD()\n",
        "svd_result = cross_validate(svd, data, measures=['RMSE', 'MAE'], cv=5, verbose=True)"
      ],
      "metadata": {
        "colab": {
          "base_uri": "https://localhost:8080/"
        },
        "id": "t5z0KUWtslTt",
        "outputId": "a09e4b48-f02e-43bb-c874-48080f173e0a"
      },
      "execution_count": 25,
      "outputs": [
        {
          "output_type": "stream",
          "name": "stdout",
          "text": [
            "Evaluating RMSE, MAE of algorithm SVD on 5 split(s).\n",
            "\n",
            "                  Fold 1  Fold 2  Fold 3  Fold 4  Fold 5  Mean    Std     \n",
            "RMSE (testset)    0.8756  0.8672  0.8756  0.8804  0.8739  0.8745  0.0043  \n",
            "MAE (testset)     0.6759  0.6665  0.6727  0.6767  0.6693  0.6722  0.0039  \n",
            "Fit time          2.60    2.86    3.23    5.12    3.20    3.40    0.89    \n",
            "Test time         0.26    0.24    0.65    0.49    0.31    0.39    0.16    \n"
          ]
        }
      ]
    },
    {
      "cell_type": "code",
      "source": [
        "knn_options = {'name': 'pearson', 'user_based': True}\n",
        "knn_with_means = KNNWithMeans(sim_options=knn_options)"
      ],
      "metadata": {
        "id": "KmDeCDsFsnps"
      },
      "execution_count": 26,
      "outputs": []
    },
    {
      "cell_type": "code",
      "source": [
        "param_grid = {'k': range(2, 7)}\n",
        "gs_knn = GridSearchCV(KNNWithMeans, param_grid, measures=['RMSE', 'MAE'], cv=5)\n",
        "gs_knn.fit(data)"
      ],
      "metadata": {
        "colab": {
          "base_uri": "https://localhost:8080/"
        },
        "id": "xBTn-ef8soqR",
        "outputId": "687cb720-b9d6-4701-8254-df4a9aa6b1aa"
      },
      "execution_count": 27,
      "outputs": [
        {
          "output_type": "stream",
          "name": "stdout",
          "text": [
            "Computing the msd similarity matrix...\n",
            "Done computing similarity matrix.\n",
            "Computing the msd similarity matrix...\n",
            "Done computing similarity matrix.\n",
            "Computing the msd similarity matrix...\n",
            "Done computing similarity matrix.\n",
            "Computing the msd similarity matrix...\n",
            "Done computing similarity matrix.\n",
            "Computing the msd similarity matrix...\n",
            "Done computing similarity matrix.\n",
            "Computing the msd similarity matrix...\n",
            "Done computing similarity matrix.\n",
            "Computing the msd similarity matrix...\n",
            "Done computing similarity matrix.\n",
            "Computing the msd similarity matrix...\n",
            "Done computing similarity matrix.\n",
            "Computing the msd similarity matrix...\n",
            "Done computing similarity matrix.\n",
            "Computing the msd similarity matrix...\n",
            "Done computing similarity matrix.\n",
            "Computing the msd similarity matrix...\n",
            "Done computing similarity matrix.\n",
            "Computing the msd similarity matrix...\n",
            "Done computing similarity matrix.\n",
            "Computing the msd similarity matrix...\n",
            "Done computing similarity matrix.\n",
            "Computing the msd similarity matrix...\n",
            "Done computing similarity matrix.\n",
            "Computing the msd similarity matrix...\n",
            "Done computing similarity matrix.\n",
            "Computing the msd similarity matrix...\n",
            "Done computing similarity matrix.\n",
            "Computing the msd similarity matrix...\n",
            "Done computing similarity matrix.\n",
            "Computing the msd similarity matrix...\n",
            "Done computing similarity matrix.\n",
            "Computing the msd similarity matrix...\n",
            "Done computing similarity matrix.\n",
            "Computing the msd similarity matrix...\n",
            "Done computing similarity matrix.\n",
            "Computing the msd similarity matrix...\n",
            "Done computing similarity matrix.\n",
            "Computing the msd similarity matrix...\n",
            "Done computing similarity matrix.\n",
            "Computing the msd similarity matrix...\n",
            "Done computing similarity matrix.\n",
            "Computing the msd similarity matrix...\n",
            "Done computing similarity matrix.\n",
            "Computing the msd similarity matrix...\n",
            "Done computing similarity matrix.\n"
          ]
        }
      ]
    },
    {
      "cell_type": "code",
      "source": [
        "best_knn_structure = gs_knn.best_estimator\n",
        "print(\"Best kNN Structure:\", best_knn_structure)"
      ],
      "metadata": {
        "colab": {
          "base_uri": "https://localhost:8080/"
        },
        "id": "I5S-X17wsp30",
        "outputId": "b8de60ae-7c81-4a7d-e28e-18c2b80b49dd"
      },
      "execution_count": 28,
      "outputs": [
        {
          "output_type": "stream",
          "name": "stdout",
          "text": [
            "Best kNN Structure: {'rmse': <surprise.prediction_algorithms.knns.KNNWithMeans object at 0x7d7e408bb070>, 'mae': <surprise.prediction_algorithms.knns.KNNWithMeans object at 0x7d7e408bb160>}\n"
          ]
        }
      ]
    },
    {
      "cell_type": "code",
      "source": [
        "best_knn = gs_knn.best_estimator['rmse']\n",
        "\n",
        "print(f\"Best kNN config: k={gs_knn.best_params['rmse']['k']}\")"
      ],
      "metadata": {
        "colab": {
          "base_uri": "https://localhost:8080/"
        },
        "id": "SJLBC06csq3b",
        "outputId": "2187ba30-67a6-4d9d-fc04-fc55a35adefc"
      },
      "execution_count": 29,
      "outputs": [
        {
          "output_type": "stream",
          "name": "stdout",
          "text": [
            "Best kNN config: k=6\n"
          ]
        }
      ]
    },
    {
      "cell_type": "code",
      "source": [
        "trainset, testset = train_test_split(data, test_size=0.2)\n",
        "best_knn.fit(trainset)\n",
        "predictions_knn = best_knn.test(testset)\n",
        "rmse_knn = accuracy.rmse(predictions_knn, verbose=True)"
      ],
      "metadata": {
        "colab": {
          "base_uri": "https://localhost:8080/"
        },
        "id": "SgeVx8rCsrte",
        "outputId": "1066b351-16de-4ddf-9e01-9ab63c2ba5bd"
      },
      "execution_count": 30,
      "outputs": [
        {
          "output_type": "stream",
          "name": "stdout",
          "text": [
            "Computing the msd similarity matrix...\n",
            "Done computing similarity matrix.\n",
            "RMSE: 0.9173\n"
          ]
        }
      ]
    },
    {
      "cell_type": "code",
      "source": [
        "def get_movie_id(title):\n",
        "    movie_id = movies[movies['title'].str.contains(title, case=False, na=False)]['movieId'].values\n",
        "    if len(movie_id) > 0:\n",
        "        return movie_id[0]\n",
        "    return None\n",
        "\n",
        "def recommend_after_movie(algo, movie_title, top_n=5):\n",
        "    movie_id = get_movie_id(movie_title)\n",
        "    if movie_id is None:\n",
        "        print(f\"Movie '{movie_title}' not found.\")\n",
        "        return\n",
        "\n",
        "    user_ids = merged_data[merged_data['movieId'] == movie_id]['userId'].unique()\n",
        "    potential_recommendations = set(merged_data['movieId'])\n",
        "\n",
        "    for uid in user_ids:\n",
        "        rated_movies = set(merged_data[merged_data['userId'] == uid]['movieId'])\n",
        "        potential_recommendations -= rated_movies\n",
        "\n",
        "    recommendations = [(mid, algo.predict(uid, mid).est) for mid in potential_recommendations]\n",
        "    recommendations = sorted(recommendations, key=lambda x: x[1], reverse=True)\n",
        "\n",
        "    print(f\"Top {top_n} recommendations after watching '{movie_title}':\")\n",
        "    for mid, score in recommendations[:top_n]:\n",
        "        title = movies[movies['movieId'] == mid]['title'].values[0]\n",
        "        print(f\"Movie: {title}, Predicted Rating: {score}\")"
      ],
      "metadata": {
        "id": "I-rzTMQWsuev"
      },
      "execution_count": 31,
      "outputs": []
    },
    {
      "cell_type": "code",
      "source": [
        "print(\"\\nRecommendations after watching 'Jumanji':\")\n",
        "recommend_after_movie(best_knn, \"Jumanji\")"
      ],
      "metadata": {
        "colab": {
          "base_uri": "https://localhost:8080/"
        },
        "id": "H4kCXW3Zsvfg",
        "outputId": "8a3121a5-2187-42c8-baed-7dd93dc4399f"
      },
      "execution_count": 32,
      "outputs": [
        {
          "output_type": "stream",
          "name": "stdout",
          "text": [
            "\n",
            "Recommendations after watching 'Jumanji':\n",
            "Top 5 recommendations after watching 'Jumanji':\n",
            "Movie: Bossa Nova (2000), Predicted Rating: 5.0\n",
            "Movie: Galaxy of Terror (Quest) (1981), Predicted Rating: 5.0\n",
            "Movie: Looker (1981), Predicted Rating: 5.0\n",
            "Movie: Alien Contamination (1980), Predicted Rating: 5.0\n",
            "Movie: Match Factory Girl, The (Tulitikkutehtaan tyttö) (1990), Predicted Rating: 5.0\n"
          ]
        }
      ]
    },
    {
      "cell_type": "code",
      "source": [
        "print(\"\\nRecommendations after watching 'Flint':\")\n",
        "recommend_after_movie(best_knn, \"Flint\")"
      ],
      "metadata": {
        "colab": {
          "base_uri": "https://localhost:8080/"
        },
        "id": "u3N24xBZs471",
        "outputId": "5a938bb3-6dcf-4877-b776-df774503afe0"
      },
      "execution_count": 33,
      "outputs": [
        {
          "output_type": "stream",
          "name": "stdout",
          "text": [
            "\n",
            "Recommendations after watching 'Flint':\n",
            "Top 5 recommendations after watching 'Flint':\n",
            "Movie: It's Such a Beautiful Day (2012), Predicted Rating: 5.0\n",
            "Movie: Beloved (1998), Predicted Rating: 5.0\n",
            "Movie: Bossa Nova (2000), Predicted Rating: 5.0\n",
            "Movie: Galaxy of Terror (Quest) (1981), Predicted Rating: 5.0\n",
            "Movie: Looker (1981), Predicted Rating: 5.0\n"
          ]
        }
      ]
    }
  ]
}