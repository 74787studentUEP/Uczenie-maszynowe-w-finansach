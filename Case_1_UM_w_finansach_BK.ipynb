{
  "nbformat": 4,
  "nbformat_minor": 0,
  "metadata": {
    "colab": {
      "provenance": []
    },
    "kernelspec": {
      "name": "python3",
      "display_name": "Python 3"
    },
    "language_info": {
      "name": "python"
    }
  },
  "cells": [
    {
      "cell_type": "code",
      "source": [
        "import pandas as pd\n",
        "from sklearn.preprocessing import StandardScaler, OneHotEncoder\n",
        "from sklearn.decomposition import PCA\n",
        "from sklearn.model_selection import train_test_split\n",
        "from sklearn.ensemble import RandomForestClassifier\n",
        "from sklearn.metrics import accuracy_score, precision_score, recall_score, f1_score\n",
        "from sklearn.impute import SimpleImputer\n"
      ],
      "metadata": {
        "id": "xZ8n5ceL5WYN"
      },
      "execution_count": 6,
      "outputs": []
    },
    {
      "cell_type": "code",
      "source": [
        "data = pd.read_csv('/content/transaction_dataset.csv')"
      ],
      "metadata": {
        "id": "e2_zRqrA5XtM"
      },
      "execution_count": 7,
      "outputs": []
    },
    {
      "cell_type": "code",
      "source": [
        "data_cleaned = data.drop(columns=['Unnamed: 0', 'Index', 'Address'])"
      ],
      "metadata": {
        "id": "aKhHBVIG5cUk"
      },
      "execution_count": 8,
      "outputs": []
    },
    {
      "cell_type": "code",
      "source": [
        "\n",
        "encoded_columns = encoder.fit_transform(data_cleaned[object_columns])\n",
        "encoded_columns_df = pd.DataFrame(encoded_columns, columns=encoder.get_feature_names_out(object_columns))\n",
        "data_encoded = pd.concat([data_cleaned.drop(object_columns, axis=1), encoded_columns_df], axis=1)\n"
      ],
      "metadata": {
        "colab": {
          "base_uri": "https://localhost:8080/"
        },
        "id": "3lrOYVNU5fyT",
        "outputId": "192c4a9c-c686-4b09-c27f-4f15f01ce5b0"
      },
      "execution_count": 9,
      "outputs": [
        {
          "output_type": "stream",
          "name": "stderr",
          "text": [
            "/usr/local/lib/python3.10/dist-packages/sklearn/preprocessing/_encoders.py:868: FutureWarning: `sparse` was renamed to `sparse_output` in version 1.2 and will be removed in 1.4. `sparse_output` is ignored unless you leave `sparse` to its default value.\n",
            "  warnings.warn(\n"
          ]
        }
      ]
    },
    {
      "cell_type": "code",
      "source": [
        "scaler = StandardScaler()\n",
        "features = data_encoded.drop(columns=['FLAG'])\n",
        "scaled_features = scaler.fit_transform(features)"
      ],
      "metadata": {
        "id": "Vn4gsvgT5gPz"
      },
      "execution_count": 10,
      "outputs": []
    },
    {
      "cell_type": "code",
      "source": [
        "imputer = SimpleImputer(strategy='mean')\n",
        "imputed_features = imputer.fit_transform(scaled_features)"
      ],
      "metadata": {
        "id": "5nOJY9cz5i9V"
      },
      "execution_count": 11,
      "outputs": []
    },
    {
      "cell_type": "code",
      "source": [
        "pca = PCA(n_components=0.95)\n",
        "principal_components = pca.fit_transform(imputed_features)\n",
        "final_features = pd.DataFrame(principal_components)\n",
        "final_labels = data_encoded['FLAG']"
      ],
      "metadata": {
        "id": "NVM6Pq-G5kX1"
      },
      "execution_count": 12,
      "outputs": []
    },
    {
      "cell_type": "code",
      "source": [
        "X_train, X_test, y_train, y_test = train_test_split(final_features, final_labels, test_size=0.2, random_state=42)"
      ],
      "metadata": {
        "id": "NLeWK_Tw5liB"
      },
      "execution_count": 13,
      "outputs": []
    },
    {
      "cell_type": "code",
      "source": [
        "models = {\n",
        "    'Default Parameters': RandomForestClassifier(random_state=42),\n",
        "    'More Trees': RandomForestClassifier(n_estimators=200, random_state=42),\n",
        "    'Deeper Trees': RandomForestClassifier(max_depth=10, random_state=42)\n",
        "}"
      ],
      "metadata": {
        "id": "oiI8L5nP5m-A"
      },
      "execution_count": 14,
      "outputs": []
    },
    {
      "cell_type": "code",
      "source": [
        "scores = {}\n",
        "for name, model in models.items():\n",
        "    model.fit(X_train, y_train)\n",
        "    y_pred = model.predict(X_test)\n",
        "    scores[name] = {\n",
        "        'Accuracy': accuracy_score(y_test, y_pred),\n",
        "        'Precision': precision_score(y_test, y_pred),\n",
        "        'Recall': recall_score(y_test, y_pred),\n",
        "        'F1 Score': f1_score(y_test, y_pred)\n",
        "    }"
      ],
      "metadata": {
        "id": "sU6AgK6R5oeR"
      },
      "execution_count": 15,
      "outputs": []
    },
    {
      "cell_type": "code",
      "source": [
        "for name, score in scores.items():\n",
        "    print(f\"Results for {name}:\")\n",
        "    for metric, value in score.items():\n",
        "        print(f\"{metric}: {value:.4f}\")\n",
        "    print(\"\\n\")"
      ],
      "metadata": {
        "colab": {
          "base_uri": "https://localhost:8080/"
        },
        "id": "tyfhmFXl5p6R",
        "outputId": "83e24044-7427-4f91-c58c-ecfc9866420d"
      },
      "execution_count": 16,
      "outputs": [
        {
          "output_type": "stream",
          "name": "stdout",
          "text": [
            "Results for Default Parameters:\n",
            "Accuracy: 0.9873\n",
            "Precision: 0.9879\n",
            "Recall: 0.9532\n",
            "F1 Score: 0.9702\n",
            "\n",
            "\n",
            "Results for More Trees:\n",
            "Accuracy: 0.9878\n",
            "Precision: 0.9903\n",
            "Recall: 0.9532\n",
            "F1 Score: 0.9714\n",
            "\n",
            "\n",
            "Results for Deeper Trees:\n",
            "Accuracy: 0.9878\n",
            "Precision: 0.9903\n",
            "Recall: 0.9532\n",
            "F1 Score: 0.9714\n",
            "\n",
            "\n"
          ]
        }
      ]
    }
  ]
}